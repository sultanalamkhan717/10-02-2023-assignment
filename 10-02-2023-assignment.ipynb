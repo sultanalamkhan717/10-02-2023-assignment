{
 "cells": [
  {
   "cell_type": "markdown",
   "id": "75db1e46-b4ad-4f82-95be-2780457b3845",
   "metadata": {},
   "source": [
    "#ANSWER-1"
   ]
  },
  {
   "cell_type": "code",
   "execution_count": null,
   "id": "d59e209a-0172-4e3c-abfe-a38643209708",
   "metadata": {},
   "outputs": [],
   "source": [
    "In Python, the open() function is used to open a file.\n",
    "This function returns a file object that allows you to read, write,\n",
    "or append to a file depending on the mode in which you open the file.\n",
    "\n",
    "The different modes of opening a file are:\n",
    "\n",
    "\"r\" (read mode): This is the default mode for opening a file. It allows you to read the contents of the file, but not modify it. \n",
    "If the file does not exist, it will raise a FileNotFoundError.\n",
    "\n",
    "\"w\" (write mode): This mode allows you to write to a file, creating the file if it does not exist, or overwriting the file if it already exists.\n",
    "If the file does not exist, it will be created. If it does exist, its contents will be truncated to zero length.\n",
    "\n",
    "\"a\" (append mode): This mode allows you to append new data to the end of the file, without overwriting the existing content. \n",
    "If the file does not exist, it will be created.\n",
    "\n",
    "\"x\" (exclusive creation mode): This mode is used to create a new file, but it will raise a FileExistsError if the file already exists.\n",
    "\n",
    "\"b\" (binary mode): This mode is used to open a file in binary mode. It is used along with other modes like \"r\", \"w\", \"a\", etc. to open a file in binary mode.\n",
    "\n",
    "\"t\" (text mode): This is the default mode for opening a file in text mode.\n",
    "It is used along with other modes like \"r\", \"w\", \"a\", etc. to open a file in text mode.\n",
    "\n",
    "Here's an example of how to open a file in \"r\" mode:\n",
    "file = open(\"example.txt\", \"r\")\n",
    "In this example, example.txt is the name of the file to open and \"r\" is the mode in which to open the file.\n",
    "Once you have opened the file, you can read its contents using methods like read() or readlines(), depending on your needs.\n",
    "file.close()\n",
    "with open(\"example.txt\", \"r\") as file:\n"
   ]
  },
  {
   "cell_type": "markdown",
   "id": "c3ab7b90-6949-4a0f-8336-a19cb4fa85fa",
   "metadata": {},
   "source": [
    "#ANSWER-2"
   ]
  },
  {
   "cell_type": "code",
   "execution_count": null,
   "id": "13bb92ca-7407-421b-9c47-d4b516803899",
   "metadata": {},
   "outputs": [],
   "source": [
    "In Python, the close() function is used to close a file after you are done working with it.\n",
    "It is important to close a file after you are done working with it because:\n",
    "\n",
    "Free up system resources: When a file is opened, the operating system allocates system resources to handle the file operations.\n",
    "If the file is not closed properly, these system resources may not be released until the program exits, which can cause performance issues or other problems.\n",
    "\n",
    "Flush data to disk: When you write data to a file, it is typically buffered in memory before being written to disk. \n",
    "If you don't close the file properly, some of the data may not be written to disk, which can lead to data loss or corruption.\n",
    "\n",
    "Ensure consistency: If you open a file for reading and then try to write to the file without closing it first,\n",
    "the contents of the file may be inconsistent or corrupted.\n",
    "Closing the file before you open it again for writing ensures that the file is in a consistent state.\n",
    "\n",
    "file = open(\"example.txt\", \"r\")\n",
    "file.close()\n",
    "\n",
    "with open(\"example.txt\", \"r\") as file:\n",
    "    # do something with the file\n"
   ]
  },
  {
   "cell_type": "markdown",
   "id": "18901071-e089-4759-bc0f-e90e1b971b2e",
   "metadata": {},
   "source": [
    "#ANSWER-3"
   ]
  },
  {
   "cell_type": "code",
   "execution_count": null,
   "id": "847c1668-e162-4c19-a069-a41da3ffbb54",
   "metadata": {},
   "outputs": [],
   "source": [
    "# Open a file for writing\n",
    "file = open(\"example.txt\", \"w\")\n",
    "\n",
    "# Write some text to the file\n",
    "file.write(\"I want to become a Data Scientist\")\n",
    "\n",
    "# Close the file\n",
    "file.close()\n",
    "\n",
    "# Open the file for reading\n",
    "file = open(\"example.txt\", \"r\")\n",
    "\n",
    "# Read the contents of the file\n",
    "contents = file.read()\n",
    "\n",
    "# Print the contents of the file\n",
    "print(contents)\n",
    "\n",
    "# Close the file\n",
    "file.close()\n"
   ]
  },
  {
   "cell_type": "code",
   "execution_count": null,
   "id": "3671b910-01fc-4d70-820c-a82971c57142",
   "metadata": {},
   "outputs": [],
   "source": [
    "In this program, we first open a file named \"example.txt\" in write mode using the open() function.\n",
    "We then write the text \"I want to become a Data Scientist\" to the file using the write() method on the file object.\n",
    "We then close the file using the close() method.\n",
    "\n",
    "Next, we open the file in read mode using the open() function and read the contents of the file using the read() method on the file object.\n",
    "We then print the contents of the file to the console.\n",
    "Finally, we close the file using the close() method.\n",
    "\n",
    "When you run this program, it will create a file named \"example.txt\" in the same directory as your Python script,\n",
    "write the text \"I want to become a Data Scientist\" to it, and then read the contents of the file and print them to the console."
   ]
  },
  {
   "cell_type": "markdown",
   "id": "e9150f6f-ac33-4bf3-ac41-386e9274378a",
   "metadata": {},
   "source": [
    "#ANSWER-4"
   ]
  },
  {
   "cell_type": "code",
   "execution_count": 1,
   "id": "166dae45-e0d3-428c-ba7f-37c43144d8b3",
   "metadata": {},
   "outputs": [
    {
     "ename": "FileNotFoundError",
     "evalue": "[Errno 2] No such file or directory: 'example.txt'",
     "output_type": "error",
     "traceback": [
      "\u001b[0;31m---------------------------------------------------------------------------\u001b[0m",
      "\u001b[0;31mFileNotFoundError\u001b[0m                         Traceback (most recent call last)",
      "Cell \u001b[0;32mIn[1], line 2\u001b[0m\n\u001b[1;32m      1\u001b[0m \u001b[38;5;66;03m# Open the file for reading\u001b[39;00m\n\u001b[0;32m----> 2\u001b[0m file \u001b[38;5;241m=\u001b[39m \u001b[38;5;28;43mopen\u001b[39;49m\u001b[43m(\u001b[49m\u001b[38;5;124;43m\"\u001b[39;49m\u001b[38;5;124;43mexample.txt\u001b[39;49m\u001b[38;5;124;43m\"\u001b[39;49m\u001b[43m,\u001b[49m\u001b[43m \u001b[49m\u001b[38;5;124;43m\"\u001b[39;49m\u001b[38;5;124;43mr\u001b[39;49m\u001b[38;5;124;43m\"\u001b[39;49m\u001b[43m)\u001b[49m\n\u001b[1;32m      4\u001b[0m \u001b[38;5;66;03m# Read the entire contents of the file\u001b[39;00m\n\u001b[1;32m      5\u001b[0m contents \u001b[38;5;241m=\u001b[39m file\u001b[38;5;241m.\u001b[39mread()\n",
      "File \u001b[0;32m/opt/conda/lib/python3.10/site-packages/IPython/core/interactiveshell.py:282\u001b[0m, in \u001b[0;36m_modified_open\u001b[0;34m(file, *args, **kwargs)\u001b[0m\n\u001b[1;32m    275\u001b[0m \u001b[38;5;28;01mif\u001b[39;00m file \u001b[38;5;129;01min\u001b[39;00m {\u001b[38;5;241m0\u001b[39m, \u001b[38;5;241m1\u001b[39m, \u001b[38;5;241m2\u001b[39m}:\n\u001b[1;32m    276\u001b[0m     \u001b[38;5;28;01mraise\u001b[39;00m \u001b[38;5;167;01mValueError\u001b[39;00m(\n\u001b[1;32m    277\u001b[0m         \u001b[38;5;124mf\u001b[39m\u001b[38;5;124m\"\u001b[39m\u001b[38;5;124mIPython won\u001b[39m\u001b[38;5;124m'\u001b[39m\u001b[38;5;124mt let you open fd=\u001b[39m\u001b[38;5;132;01m{\u001b[39;00mfile\u001b[38;5;132;01m}\u001b[39;00m\u001b[38;5;124m by default \u001b[39m\u001b[38;5;124m\"\u001b[39m\n\u001b[1;32m    278\u001b[0m         \u001b[38;5;124m\"\u001b[39m\u001b[38;5;124mas it is likely to crash IPython. If you know what you are doing, \u001b[39m\u001b[38;5;124m\"\u001b[39m\n\u001b[1;32m    279\u001b[0m         \u001b[38;5;124m\"\u001b[39m\u001b[38;5;124myou can use builtins\u001b[39m\u001b[38;5;124m'\u001b[39m\u001b[38;5;124m open.\u001b[39m\u001b[38;5;124m\"\u001b[39m\n\u001b[1;32m    280\u001b[0m     )\n\u001b[0;32m--> 282\u001b[0m \u001b[38;5;28;01mreturn\u001b[39;00m \u001b[43mio_open\u001b[49m\u001b[43m(\u001b[49m\u001b[43mfile\u001b[49m\u001b[43m,\u001b[49m\u001b[43m \u001b[49m\u001b[38;5;241;43m*\u001b[39;49m\u001b[43margs\u001b[49m\u001b[43m,\u001b[49m\u001b[43m \u001b[49m\u001b[38;5;241;43m*\u001b[39;49m\u001b[38;5;241;43m*\u001b[39;49m\u001b[43mkwargs\u001b[49m\u001b[43m)\u001b[49m\n",
      "\u001b[0;31mFileNotFoundError\u001b[0m: [Errno 2] No such file or directory: 'example.txt'"
     ]
    }
   ],
   "source": [
    "# Open the file for reading\n",
    "file = open(\"example.txt\", \"r\")\n",
    "\n",
    "# Read the entire contents of the file\n",
    "contents = file.read()\n",
    "\n",
    "# Print the contents of the file\n",
    "print(contents)\n",
    "\n",
    "# Close the file\n",
    "file.close()\n"
   ]
  },
  {
   "cell_type": "code",
   "execution_count": 2,
   "id": "0fcb9d16-a426-4ee0-946d-90ef6be43b63",
   "metadata": {},
   "outputs": [
    {
     "ename": "FileNotFoundError",
     "evalue": "[Errno 2] No such file or directory: 'example.txt'",
     "output_type": "error",
     "traceback": [
      "\u001b[0;31m---------------------------------------------------------------------------\u001b[0m",
      "\u001b[0;31mFileNotFoundError\u001b[0m                         Traceback (most recent call last)",
      "Cell \u001b[0;32mIn[2], line 2\u001b[0m\n\u001b[1;32m      1\u001b[0m \u001b[38;5;66;03m# Open the file for reading\u001b[39;00m\n\u001b[0;32m----> 2\u001b[0m file \u001b[38;5;241m=\u001b[39m \u001b[38;5;28;43mopen\u001b[39;49m\u001b[43m(\u001b[49m\u001b[38;5;124;43m\"\u001b[39;49m\u001b[38;5;124;43mexample.txt\u001b[39;49m\u001b[38;5;124;43m\"\u001b[39;49m\u001b[43m,\u001b[49m\u001b[43m \u001b[49m\u001b[38;5;124;43m\"\u001b[39;49m\u001b[38;5;124;43mr\u001b[39;49m\u001b[38;5;124;43m\"\u001b[39;49m\u001b[43m)\u001b[49m\n\u001b[1;32m      4\u001b[0m \u001b[38;5;66;03m# Read the first line of the file\u001b[39;00m\n\u001b[1;32m      5\u001b[0m line \u001b[38;5;241m=\u001b[39m file\u001b[38;5;241m.\u001b[39mreadline()\n",
      "File \u001b[0;32m/opt/conda/lib/python3.10/site-packages/IPython/core/interactiveshell.py:282\u001b[0m, in \u001b[0;36m_modified_open\u001b[0;34m(file, *args, **kwargs)\u001b[0m\n\u001b[1;32m    275\u001b[0m \u001b[38;5;28;01mif\u001b[39;00m file \u001b[38;5;129;01min\u001b[39;00m {\u001b[38;5;241m0\u001b[39m, \u001b[38;5;241m1\u001b[39m, \u001b[38;5;241m2\u001b[39m}:\n\u001b[1;32m    276\u001b[0m     \u001b[38;5;28;01mraise\u001b[39;00m \u001b[38;5;167;01mValueError\u001b[39;00m(\n\u001b[1;32m    277\u001b[0m         \u001b[38;5;124mf\u001b[39m\u001b[38;5;124m\"\u001b[39m\u001b[38;5;124mIPython won\u001b[39m\u001b[38;5;124m'\u001b[39m\u001b[38;5;124mt let you open fd=\u001b[39m\u001b[38;5;132;01m{\u001b[39;00mfile\u001b[38;5;132;01m}\u001b[39;00m\u001b[38;5;124m by default \u001b[39m\u001b[38;5;124m\"\u001b[39m\n\u001b[1;32m    278\u001b[0m         \u001b[38;5;124m\"\u001b[39m\u001b[38;5;124mas it is likely to crash IPython. If you know what you are doing, \u001b[39m\u001b[38;5;124m\"\u001b[39m\n\u001b[1;32m    279\u001b[0m         \u001b[38;5;124m\"\u001b[39m\u001b[38;5;124myou can use builtins\u001b[39m\u001b[38;5;124m'\u001b[39m\u001b[38;5;124m open.\u001b[39m\u001b[38;5;124m\"\u001b[39m\n\u001b[1;32m    280\u001b[0m     )\n\u001b[0;32m--> 282\u001b[0m \u001b[38;5;28;01mreturn\u001b[39;00m \u001b[43mio_open\u001b[49m\u001b[43m(\u001b[49m\u001b[43mfile\u001b[49m\u001b[43m,\u001b[49m\u001b[43m \u001b[49m\u001b[38;5;241;43m*\u001b[39;49m\u001b[43margs\u001b[49m\u001b[43m,\u001b[49m\u001b[43m \u001b[49m\u001b[38;5;241;43m*\u001b[39;49m\u001b[38;5;241;43m*\u001b[39;49m\u001b[43mkwargs\u001b[49m\u001b[43m)\u001b[49m\n",
      "\u001b[0;31mFileNotFoundError\u001b[0m: [Errno 2] No such file or directory: 'example.txt'"
     ]
    }
   ],
   "source": [
    "# Open the file for reading\n",
    "file = open(\"example.txt\", \"r\")\n",
    "\n",
    "# Read the first line of the file\n",
    "line = file.readline()\n",
    "\n",
    "# Print the first line of the file\n",
    "print(line)\n",
    "\n",
    "# Close the file\n",
    "file.close()\n"
   ]
  },
  {
   "cell_type": "code",
   "execution_count": 3,
   "id": "afda31ab-fa4f-42e8-8878-275c70892580",
   "metadata": {},
   "outputs": [
    {
     "ename": "FileNotFoundError",
     "evalue": "[Errno 2] No such file or directory: 'example.txt'",
     "output_type": "error",
     "traceback": [
      "\u001b[0;31m---------------------------------------------------------------------------\u001b[0m",
      "\u001b[0;31mFileNotFoundError\u001b[0m                         Traceback (most recent call last)",
      "Cell \u001b[0;32mIn[3], line 2\u001b[0m\n\u001b[1;32m      1\u001b[0m \u001b[38;5;66;03m# Open the file for reading\u001b[39;00m\n\u001b[0;32m----> 2\u001b[0m file \u001b[38;5;241m=\u001b[39m \u001b[38;5;28;43mopen\u001b[39;49m\u001b[43m(\u001b[49m\u001b[38;5;124;43m\"\u001b[39;49m\u001b[38;5;124;43mexample.txt\u001b[39;49m\u001b[38;5;124;43m\"\u001b[39;49m\u001b[43m,\u001b[49m\u001b[43m \u001b[49m\u001b[38;5;124;43m\"\u001b[39;49m\u001b[38;5;124;43mr\u001b[39;49m\u001b[38;5;124;43m\"\u001b[39;49m\u001b[43m)\u001b[49m\n\u001b[1;32m      4\u001b[0m \u001b[38;5;66;03m# Read all the lines of the file\u001b[39;00m\n\u001b[1;32m      5\u001b[0m lines \u001b[38;5;241m=\u001b[39m file\u001b[38;5;241m.\u001b[39mreadlines()\n",
      "File \u001b[0;32m/opt/conda/lib/python3.10/site-packages/IPython/core/interactiveshell.py:282\u001b[0m, in \u001b[0;36m_modified_open\u001b[0;34m(file, *args, **kwargs)\u001b[0m\n\u001b[1;32m    275\u001b[0m \u001b[38;5;28;01mif\u001b[39;00m file \u001b[38;5;129;01min\u001b[39;00m {\u001b[38;5;241m0\u001b[39m, \u001b[38;5;241m1\u001b[39m, \u001b[38;5;241m2\u001b[39m}:\n\u001b[1;32m    276\u001b[0m     \u001b[38;5;28;01mraise\u001b[39;00m \u001b[38;5;167;01mValueError\u001b[39;00m(\n\u001b[1;32m    277\u001b[0m         \u001b[38;5;124mf\u001b[39m\u001b[38;5;124m\"\u001b[39m\u001b[38;5;124mIPython won\u001b[39m\u001b[38;5;124m'\u001b[39m\u001b[38;5;124mt let you open fd=\u001b[39m\u001b[38;5;132;01m{\u001b[39;00mfile\u001b[38;5;132;01m}\u001b[39;00m\u001b[38;5;124m by default \u001b[39m\u001b[38;5;124m\"\u001b[39m\n\u001b[1;32m    278\u001b[0m         \u001b[38;5;124m\"\u001b[39m\u001b[38;5;124mas it is likely to crash IPython. If you know what you are doing, \u001b[39m\u001b[38;5;124m\"\u001b[39m\n\u001b[1;32m    279\u001b[0m         \u001b[38;5;124m\"\u001b[39m\u001b[38;5;124myou can use builtins\u001b[39m\u001b[38;5;124m'\u001b[39m\u001b[38;5;124m open.\u001b[39m\u001b[38;5;124m\"\u001b[39m\n\u001b[1;32m    280\u001b[0m     )\n\u001b[0;32m--> 282\u001b[0m \u001b[38;5;28;01mreturn\u001b[39;00m \u001b[43mio_open\u001b[49m\u001b[43m(\u001b[49m\u001b[43mfile\u001b[49m\u001b[43m,\u001b[49m\u001b[43m \u001b[49m\u001b[38;5;241;43m*\u001b[39;49m\u001b[43margs\u001b[49m\u001b[43m,\u001b[49m\u001b[43m \u001b[49m\u001b[38;5;241;43m*\u001b[39;49m\u001b[38;5;241;43m*\u001b[39;49m\u001b[43mkwargs\u001b[49m\u001b[43m)\u001b[49m\n",
      "\u001b[0;31mFileNotFoundError\u001b[0m: [Errno 2] No such file or directory: 'example.txt'"
     ]
    }
   ],
   "source": [
    "# Open the file for reading\n",
    "file = open(\"example.txt\", \"r\")\n",
    "\n",
    "# Read all the lines of the file\n",
    "lines = file.readlines()\n",
    "\n",
    "# Print all the lines of the file\n",
    "for line in lines:\n",
    "    print(line)\n",
    "\n",
    "# Close the file\n",
    "file.close()\n"
   ]
  },
  {
   "cell_type": "markdown",
   "id": "1c9be524-72d7-46d3-a381-3d73fe1d0f8f",
   "metadata": {},
   "source": [
    "#ANSWER-5"
   ]
  },
  {
   "cell_type": "code",
   "execution_count": 4,
   "id": "71413acd-98e1-4c24-a83a-0c684ef9088d",
   "metadata": {},
   "outputs": [
    {
     "ename": "SyntaxError",
     "evalue": "unterminated string literal (detected at line 6) (1541837203.py, line 6)",
     "output_type": "error",
     "traceback": [
      "\u001b[0;36m  Cell \u001b[0;32mIn[4], line 6\u001b[0;36m\u001b[0m\n\u001b[0;31m    With the with statement, you don't need to manually call the close() method on the file object\u001b[0m\n\u001b[0m                                    ^\u001b[0m\n\u001b[0;31mSyntaxError\u001b[0m\u001b[0;31m:\u001b[0m unterminated string literal (detected at line 6)\n"
     ]
    }
   ],
   "source": [
    "In Python, the with statement is used to provide a context in which a block of code is executed.\n",
    "When used with the open() function to open a file, the with statement ensures that the file is properly opened and closed,\n",
    "even if an exception is raised within the block of code.\n",
    "\n",
    "The advantage of using the with statement with the open() function is that it simplifies the code and ensures that the file is closed properly after it has been used.\n",
    "With the with statement, you don't need to manually call the close() method on the file object \n",
    "- this is done automatically when the block of code executed within the with statement is finished."
   ]
  },
  {
   "cell_type": "code",
   "execution_count": 5,
   "id": "f4a80472-8a73-4fdd-887a-ae2bdbb551e7",
   "metadata": {},
   "outputs": [
    {
     "ename": "FileNotFoundError",
     "evalue": "[Errno 2] No such file or directory: 'example.txt'",
     "output_type": "error",
     "traceback": [
      "\u001b[0;31m---------------------------------------------------------------------------\u001b[0m",
      "\u001b[0;31mFileNotFoundError\u001b[0m                         Traceback (most recent call last)",
      "Cell \u001b[0;32mIn[5], line 2\u001b[0m\n\u001b[1;32m      1\u001b[0m \u001b[38;5;66;03m# Open the file using the with statement\u001b[39;00m\n\u001b[0;32m----> 2\u001b[0m \u001b[38;5;28;01mwith\u001b[39;00m \u001b[38;5;28;43mopen\u001b[39;49m\u001b[43m(\u001b[49m\u001b[38;5;124;43m\"\u001b[39;49m\u001b[38;5;124;43mexample.txt\u001b[39;49m\u001b[38;5;124;43m\"\u001b[39;49m\u001b[43m,\u001b[49m\u001b[43m \u001b[49m\u001b[38;5;124;43m\"\u001b[39;49m\u001b[38;5;124;43mr\u001b[39;49m\u001b[38;5;124;43m\"\u001b[39;49m\u001b[43m)\u001b[49m \u001b[38;5;28;01mas\u001b[39;00m file:\n\u001b[1;32m      3\u001b[0m     \u001b[38;5;66;03m# Read the contents of the file\u001b[39;00m\n\u001b[1;32m      4\u001b[0m     contents \u001b[38;5;241m=\u001b[39m file\u001b[38;5;241m.\u001b[39mread()\n\u001b[1;32m      6\u001b[0m \u001b[38;5;66;03m# Print the contents of the file\u001b[39;00m\n",
      "File \u001b[0;32m/opt/conda/lib/python3.10/site-packages/IPython/core/interactiveshell.py:282\u001b[0m, in \u001b[0;36m_modified_open\u001b[0;34m(file, *args, **kwargs)\u001b[0m\n\u001b[1;32m    275\u001b[0m \u001b[38;5;28;01mif\u001b[39;00m file \u001b[38;5;129;01min\u001b[39;00m {\u001b[38;5;241m0\u001b[39m, \u001b[38;5;241m1\u001b[39m, \u001b[38;5;241m2\u001b[39m}:\n\u001b[1;32m    276\u001b[0m     \u001b[38;5;28;01mraise\u001b[39;00m \u001b[38;5;167;01mValueError\u001b[39;00m(\n\u001b[1;32m    277\u001b[0m         \u001b[38;5;124mf\u001b[39m\u001b[38;5;124m\"\u001b[39m\u001b[38;5;124mIPython won\u001b[39m\u001b[38;5;124m'\u001b[39m\u001b[38;5;124mt let you open fd=\u001b[39m\u001b[38;5;132;01m{\u001b[39;00mfile\u001b[38;5;132;01m}\u001b[39;00m\u001b[38;5;124m by default \u001b[39m\u001b[38;5;124m\"\u001b[39m\n\u001b[1;32m    278\u001b[0m         \u001b[38;5;124m\"\u001b[39m\u001b[38;5;124mas it is likely to crash IPython. If you know what you are doing, \u001b[39m\u001b[38;5;124m\"\u001b[39m\n\u001b[1;32m    279\u001b[0m         \u001b[38;5;124m\"\u001b[39m\u001b[38;5;124myou can use builtins\u001b[39m\u001b[38;5;124m'\u001b[39m\u001b[38;5;124m open.\u001b[39m\u001b[38;5;124m\"\u001b[39m\n\u001b[1;32m    280\u001b[0m     )\n\u001b[0;32m--> 282\u001b[0m \u001b[38;5;28;01mreturn\u001b[39;00m \u001b[43mio_open\u001b[49m\u001b[43m(\u001b[49m\u001b[43mfile\u001b[49m\u001b[43m,\u001b[49m\u001b[43m \u001b[49m\u001b[38;5;241;43m*\u001b[39;49m\u001b[43margs\u001b[49m\u001b[43m,\u001b[49m\u001b[43m \u001b[49m\u001b[38;5;241;43m*\u001b[39;49m\u001b[38;5;241;43m*\u001b[39;49m\u001b[43mkwargs\u001b[49m\u001b[43m)\u001b[49m\n",
      "\u001b[0;31mFileNotFoundError\u001b[0m: [Errno 2] No such file or directory: 'example.txt'"
     ]
    }
   ],
   "source": [
    "# Open the file using the with statement\n",
    "with open(\"example.txt\", \"r\") as file:\n",
    "    # Read the contents of the file\n",
    "    contents = file.read()\n",
    "\n",
    "# Print the contents of the file\n",
    "print(contents)\n"
   ]
  },
  {
   "cell_type": "markdown",
   "id": "183153eb-d12d-49bc-be99-9207a801bedb",
   "metadata": {},
   "source": [
    "#ANSWER-6"
   ]
  },
  {
   "cell_type": "raw",
   "id": "f416680f-c9ba-4e20-98cd-b372c0085193",
   "metadata": {},
   "source": [
    "he write() function is used to write a string to a file.\n",
    "It takes a single argument, which is the string to be written, and returns the number of characters written to the file.\n",
    "If the file does not exist, the write() function will create it.\n",
    "If the file already exists, the write() function will overwrite its contents."
   ]
  },
  {
   "cell_type": "code",
   "execution_count": 6,
   "id": "7768b7ff-b52e-492a-af4e-1292f4efa9a9",
   "metadata": {},
   "outputs": [
    {
     "name": "stdout",
     "output_type": "stream",
     "text": [
      "File written successfully.\n"
     ]
    }
   ],
   "source": [
    "# Open the file for writing\n",
    "with open(\"example.txt\", \"w\") as file:\n",
    "    # Write a string to the file\n",
    "    file.write(\"This is an example of using the write() function to write to a file.\\n\")\n",
    "    file.write(\"We can write multiple lines by calling write() multiple times.\\n\")\n",
    "    file.write(\"Each call to write() will write the string to a new line in the file.\\n\")\n",
    "\n",
    "# Print a message to indicate that the file has been written\n",
    "print(\"File written successfully.\")\n"
   ]
  },
  {
   "cell_type": "raw",
   "id": "8f461ff8-d9be-425b-af7f-12ae91f9e873",
   "metadata": {},
   "source": [
    "The writelines() function is used to write a list of strings to a file. \n",
    "It takes a single argument, which is a list of strings to be written, and returns None. Each string in the list is written to the file as a separate line.\n",
    "If the file does not exist, the writelines() function will create it. If the file already exists, the writelines() function will overwrite its contents."
   ]
  },
  {
   "cell_type": "code",
   "execution_count": 7,
   "id": "0e70a309-7e79-4bbe-bce3-6b5c3e2e6c6b",
   "metadata": {},
   "outputs": [
    {
     "name": "stdout",
     "output_type": "stream",
     "text": [
      "File written successfully.\n"
     ]
    }
   ],
   "source": [
    "# Create a list of strings to write to the file\n",
    "lines = [\n",
    "    \"This is the first line.\\n\",\n",
    "    \"This is the second line.\\n\",\n",
    "    \"This is the third line.\\n\"\n",
    "]\n",
    "\n",
    "# Open the file for writing\n",
    "with open(\"example.txt\", \"w\") as file:\n",
    "    # Write the list of strings to the file\n",
    "    file.writelines(lines)\n",
    "\n",
    "# Print a message to indicate that the file has been written\n",
    "print(\"File written successfully.\")\n"
   ]
  },
  {
   "cell_type": "code",
   "execution_count": null,
   "id": "4f77c5aa-731c-458e-97f0-be9e88d7ab60",
   "metadata": {},
   "outputs": [],
   "source": []
  }
 ],
 "metadata": {
  "kernelspec": {
   "display_name": "Python 3 (ipykernel)",
   "language": "python",
   "name": "python3"
  },
  "language_info": {
   "codemirror_mode": {
    "name": "ipython",
    "version": 3
   },
   "file_extension": ".py",
   "mimetype": "text/x-python",
   "name": "python",
   "nbconvert_exporter": "python",
   "pygments_lexer": "ipython3",
   "version": "3.10.8"
  }
 },
 "nbformat": 4,
 "nbformat_minor": 5
}
